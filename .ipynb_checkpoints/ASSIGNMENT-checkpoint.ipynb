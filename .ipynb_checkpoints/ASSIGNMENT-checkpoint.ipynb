{
 "cells": [
  {
   "cell_type": "code",
   "execution_count": 2,
   "id": "0aa90de6-1c02-4ce4-b878-37f60c72ec7a",
   "metadata": {},
   "outputs": [
    {
     "name": "stdin",
     "output_type": "stream",
     "text": [
      "enter your string my name is shubham\n"
     ]
    },
    {
     "data": {
      "text/plain": [
       "'mahbuhs si eman ym'"
      ]
     },
     "execution_count": 2,
     "metadata": {},
     "output_type": "execute_result"
    }
   ],
   "source": [
    "# 1.Write a code to reverse a string.\n",
    "string1=input(\"enter your string\")\n",
    "string1[::-1]"
   ]
  },
  {
   "cell_type": "code",
   "execution_count": 6,
   "id": "250fa746-3d72-4d60-8b24-caa91c601a93",
   "metadata": {},
   "outputs": [
    {
     "name": "stdin",
     "output_type": "stream",
     "text": [
      "Enter your string My name is Shubham Chaurasiya.\n"
     ]
    },
    {
     "name": "stdout",
     "output_type": "stream",
     "text": [
      "the number of vowels in this string is: 10\n"
     ]
    }
   ],
   "source": [
    "# 2.Write a code to count the number of vowels in a string\n",
    "string2=input(\"Enter your string\")\n",
    "vowels=\"aeiouAEIOU\"\n",
    "count=0\n",
    "for char in string2:\n",
    "    if char in vowels:\n",
    "        count += 1\n",
    "print(\"the number of vowels in this string is:\", count)\n",
    "\n",
    "    \n",
    "    "
   ]
  },
  {
   "cell_type": "code",
   "execution_count": 10,
   "id": "2ee82cfc-b3fe-49b0-aa62-b22d2af58d52",
   "metadata": {},
   "outputs": [
    {
     "name": "stdin",
     "output_type": "stream",
     "text": [
      "Enter your string ghff\n"
     ]
    },
    {
     "name": "stdout",
     "output_type": "stream",
     "text": [
      "This string is not Palindrome\n"
     ]
    }
   ],
   "source": [
    "# 3.write a code to check if a given string is palindrome or not.\n",
    "string3=input(\"Enter your string\")\n",
    "str = string3[::-1]\n",
    "if string3 == str:\n",
    "    print (\"This string is Palindrome\")\n",
    "else:\n",
    "    print(\"This string is not Palindrome\")\n"
   ]
  },
  {
   "cell_type": "code",
   "execution_count": 14,
   "id": "eb580567-dc43-4312-9526-c64311392ba0",
   "metadata": {},
   "outputs": [
    {
     "name": "stdin",
     "output_type": "stream",
     "text": [
      "Enter your string hg th\n",
      "Enter your string gh gh\n"
     ]
    },
    {
     "name": "stdout",
     "output_type": "stream",
     "text": [
      "this is not Anagram.\n"
     ]
    }
   ],
   "source": [
    "# 4.write a code to check if two given strings are anagrams of each other.\n",
    "string4=input(\"Enter your string\")\n",
    "string5=input(\"Enter your string\")\n",
    "if len(string4) != len(string5):\n",
    "    print(\"This is not Anagram\")\n",
    "else:\n",
    "    if sorted(string4) == sorted(string5):\n",
    "        print(\"this is Anagram.\")\n",
    "    else:\n",
    "        print(\"this is not Anagram.\")"
   ]
  },
  {
   "cell_type": "code",
   "execution_count": 3,
   "id": "68e8debc-95a2-4ac8-8b56-265a87653c83",
   "metadata": {},
   "outputs": [
    {
     "name": "stdout",
     "output_type": "stream",
     "text": [
      "2\n"
     ]
    }
   ],
   "source": [
    "# 5.write a code to find all occurance of a given substring within another string.\n",
    "string4 = \"banana, appple, apple, banana, orange\"\n",
    "substring= \"banana\"\n",
    "if substring in string4:\n",
    "    sum = string4.count(substring)\n",
    "    print(sum)\n",
    "else:\n",
    "    print(\"No such character found\")"
   ]
  },
  {
   "cell_type": "code",
   "execution_count": 26,
   "id": "1496701a-575c-48d6-a962-80fcb9fd7730",
   "metadata": {},
   "outputs": [
    {
     "name": "stdin",
     "output_type": "stream",
     "text": [
      "Enter your string ss ss ss s\n",
      "enter your search character y\n"
     ]
    },
    {
     "name": "stdout",
     "output_type": "stream",
     "text": [
      "No such character found\n"
     ]
    }
   ],
   "source": [
    "# 6.Write a code to perform basic string compression using the counts of repeated characters\n",
    "string4 = str(input(\"Enter your string\"))\n",
    "searchword= str(input(\"enter your search character\"))\n",
    "if searchword in string4:\n",
    "    sum = string4.count(searchword)\n",
    "    print(sum)\n",
    "else:\n",
    "    print(\"No such character found\")"
   ]
  },
  {
   "cell_type": "code",
   "execution_count": 22,
   "id": "c10b14f1-5fe6-4559-8925-fa0019ae0956",
   "metadata": {},
   "outputs": [
    {
     "name": "stdout",
     "output_type": "stream",
     "text": [
      "This string has all unique characters\n"
     ]
    }
   ],
   "source": [
    "# 7.  Write code to determine if string has all unique characters\n",
    "string= \"abcdef g h i j k l  m\"\n",
    "remove_space = string.replace(\" \",\"\")\n",
    "s = list(remove_space)\n",
    "u= set(s)\n",
    "if len(s) == len(u):\n",
    "    print(\"This string has all unique characters\")\n",
    "else:\n",
    "    print(\"This string has not all unique characters\")"
   ]
  },
  {
   "cell_type": "code",
   "execution_count": 40,
   "id": "e04197ca-7b4d-4438-96ab-e91042ac5c95",
   "metadata": {},
   "outputs": [
    {
     "name": "stdin",
     "output_type": "stream",
     "text": [
      "Enter your string my Name is shuBham\n",
      "choose 'Uppercase' or 'Lowercase':  lowercase\n"
     ]
    },
    {
     "name": "stdout",
     "output_type": "stream",
     "text": [
      "my name is shubham\n"
     ]
    }
   ],
   "source": [
    "# 8. Write a code to convert a given string to uppercase or lowercase\n",
    "string= input(\"Enter your string\")\n",
    "choice= input(\"choose 'Uppercase' or 'Lowercase': \")\n",
    "choice=choice.capitalize()\n",
    "if choice == 'Uppercase':\n",
    "    string= string.upper()\n",
    "    print(string)\n",
    "    \n",
    "elif choice== 'Lowercase':\n",
    "    string = string.lower()\n",
    "    print(string)\n"
   ]
  },
  {
   "cell_type": "code",
   "execution_count": 41,
   "id": "d1a1c53e-8b02-4297-97a6-31f04d34a7fd",
   "metadata": {},
   "outputs": [
    {
     "name": "stdin",
     "output_type": "stream",
     "text": [
      "Enter your sentence. my nam eis chbha  chsfri\n"
     ]
    },
    {
     "name": "stdout",
     "output_type": "stream",
     "text": [
      "Number of Words: 5\n"
     ]
    }
   ],
   "source": [
    "# 9. Write a code to count the number of words in a string.\n",
    "string = input(\"Enter your sentence.\")\n",
    "words= string.split()\n",
    "number_of_words= len(words)\n",
    "print(\"Number of Words:\", number_of_words)"
   ]
  },
  {
   "cell_type": "code",
   "execution_count": 12,
   "id": "3921b342-fb03-4ed2-8dfc-ab96c181f180",
   "metadata": {},
   "outputs": [
    {
     "name": "stdin",
     "output_type": "stream",
     "text": [
      "enter your string dd\n",
      "enter your string dd\n"
     ]
    },
    {
     "name": "stdout",
     "output_type": "stream",
     "text": [
      "dd dd\n"
     ]
    }
   ],
   "source": [
    "# 10. Write a code to concatenate two strings without using the + operato\n",
    "string1 = input (\"enter your string\")\n",
    "string2 = input (\"enter your string\")\n",
    "concatenate = \" \".join([string1, string2])\n",
    "print (concatenate)\n"
   ]
  },
  {
   "cell_type": "code",
   "execution_count": 15,
   "id": "244b17bf-4b3e-4a83-be7e-be0352843750",
   "metadata": {},
   "outputs": [
    {
     "name": "stdout",
     "output_type": "stream",
     "text": [
      "List after removing occurrences of 3 : [1, 2, 4, 5, 6]\n"
     ]
    }
   ],
   "source": [
    "# 11.  Write a code to remove all occurrences of a specific element from a list\n",
    "\n",
    "list1 = [1, 2, 3, 4, 3, 5, 3, 6]\n",
    "remove = 3\n",
    "\n",
    "new_list1 = []\n",
    "\n",
    "for item in list1:\n",
    "    if item != remove:\n",
    "        new_list1.append(item)\n",
    "        \n",
    "print(\"List after removing occurrences of\", remove, \":\", new_list1)\n"
   ]
  },
  {
   "cell_type": "code",
   "execution_count": 10,
   "id": "6bca6f73-550c-4035-9ff9-c0207f03b492",
   "metadata": {},
   "outputs": [
    {
     "name": "stdout",
     "output_type": "stream",
     "text": [
      "45\n"
     ]
    }
   ],
   "source": [
    "# 12.  Implement a code to find the second largest number in a given list of integers\n",
    "num_list= [\"34\", \"45\", \"22\", \"12\", \"87\" ]\n",
    "sort = sorted(num_list)\n",
    "second_largest = sort[-2]\n",
    "print(second_largest)\n",
    "\n"
   ]
  },
  {
   "cell_type": "code",
   "execution_count": 26,
   "id": "287d0624-c97d-4b4a-9ddd-f46255c7210d",
   "metadata": {},
   "outputs": [
    {
     "name": "stdout",
     "output_type": "stream",
     "text": [
      "Element counts: {1: 1, 2: 2, 3: 1, 4: 3, 5: 2, 6: 1}\n"
     ]
    }
   ],
   "source": [
    "# 13.  Create a code to count the occurrences of each element in a list and return a dictionary with elements askeys and their counts as values\n",
    "lst = [1, 2, 2, 3, 4, 4, 4, 5, 5, 6]\n",
    "\n",
    "counts = {}\n",
    "\n",
    "for item in lst:\n",
    "    if item in counts:\n",
    "        counts[item] += 1\n",
    "    else:\n",
    "        counts[item] = 1\n",
    "\n",
    "print(\"Element counts:\", counts)\n"
   ]
  },
  {
   "cell_type": "code",
   "execution_count": 29,
   "id": "65f2c002-dd0e-4358-bf6e-98361dd034a2",
   "metadata": {},
   "outputs": [
    {
     "data": {
      "text/plain": [
       "[6, 5, 4, 3, 2, 1]"
      ]
     },
     "execution_count": 29,
     "metadata": {},
     "output_type": "execute_result"
    }
   ],
   "source": [
    "# 14.  Write a code to reverse a list in-place without using any built-in reverse functions.\n",
    "list = [1, 2, 3, 4, 5, 6]\n",
    "list[::-1]\n"
   ]
  },
  {
   "cell_type": "code",
   "execution_count": 2,
   "id": "97767458-3fac-4848-9ae5-cc4a59833e98",
   "metadata": {},
   "outputs": [
    {
     "name": "stdout",
     "output_type": "stream",
     "text": [
      "{1, 2, 3, 4, 5, 6}\n"
     ]
    }
   ],
   "source": [
    "# 15. Implement a code to find and remove duplicates from a list while preserving the original order of elements\n",
    "\n",
    "list1 = [1, 2, 3, 4, 3, 5, 3, 6]\n",
    "s= set(list1)\n",
    "print (s)\n",
    "\n"
   ]
  },
  {
   "cell_type": "code",
   "execution_count": 31,
   "id": "9d4e6253-4550-4091-861b-a1c46ee2259d",
   "metadata": {},
   "outputs": [
    {
     "name": "stdout",
     "output_type": "stream",
     "text": [
      "List is not sorted\n"
     ]
    }
   ],
   "source": [
    "# 16. create a code to check if a given list is sorted (either in acsending or\n",
    "#     descending order) or not.\n",
    "lst = [7,8,5,4,3,2,1]\n",
    "ascending = sorted(lst)\n",
    "descending = ascending[::-1]\n",
    "\n",
    "if lst == ascending:\n",
    "    print (\"List is sorted\")\n",
    "elif lst == descending:\n",
    "    print(\"List is sorted\")\n",
    "else:\n",
    "    print (\"List is not sorted\")\n"
   ]
  },
  {
   "cell_type": "code",
   "execution_count": 33,
   "id": "632e7d62-c10c-45fa-83b3-f9a744feaf00",
   "metadata": {},
   "outputs": [
    {
     "name": "stdout",
     "output_type": "stream",
     "text": [
      "[1, 1, 2, 2, 3, 3, 4, 4, 5, 5, 6, 6, 7, 7, 8, 8, 9, 9]\n"
     ]
    }
   ],
   "source": [
    "# 17. write a code to merge two sorted list into a single sorted list.\n",
    "lst1 = [1,2,3,4,5,6,7,8,9]\n",
    "first_list = sorted(lst1)\n",
    "lst2 = [9,8,7,6,5,4,3,2,1]\n",
    "second_list = sorted(lst2)\n",
    "sort =sorted(lst1+lst2)\n",
    "print(sort)"
   ]
  },
  {
   "cell_type": "code",
   "execution_count": 41,
   "id": "7151a263-7011-4d90-b0a3-508ddcf70558",
   "metadata": {},
   "outputs": [
    {
     "name": "stdout",
     "output_type": "stream",
     "text": [
      "[5, 6]\n"
     ]
    }
   ],
   "source": [
    "# 18. implement a code to find the intersection of two given lists.\n",
    "\n",
    "list1= [1,2,3,4,5,6]\n",
    "first_list = set(list1)\n",
    "list2 = [5,6,7,8,9,0]\n",
    "second_list = set(list2)\n",
    "intersection = first_list & second_list\n",
    "main_list = list(intersection)\n",
    "print(main_list)\n"
   ]
  },
  {
   "cell_type": "code",
   "execution_count": 42,
   "id": "a51fe6c3-2949-44b9-bffd-7248179446f4",
   "metadata": {},
   "outputs": [
    {
     "name": "stdout",
     "output_type": "stream",
     "text": [
      "[0, 1, 2, 3, 4, 5, 6, 'shyam', 8, 'ram']\n"
     ]
    }
   ],
   "source": [
    "# 19. create a code to find the union of two list without dublicates.\n",
    "\n",
    "list1 = ['ram',1,2,3,4,5]  #taken a list\n",
    "set1 = set(list1)          #converted first list into set\n",
    "\n",
    "list2 = ['shyam',2,4,6,8,0]   #taken second list\n",
    "set2 = set(list2)            #converted first list into set\n",
    "\n",
    "union = set1 | set2         #union of set1 and set 2\n",
    "union_list = list(union)    #converted union of set1 and set2 into list\n",
    "print(union_list)"
   ]
  },
  {
   "cell_type": "code",
   "execution_count": 36,
   "id": "aee39e65-36ec-4c56-84ea-f037214f87a2",
   "metadata": {},
   "outputs": [
    {
     "name": "stdout",
     "output_type": "stream",
     "text": [
      "[4, 7, 'ram', 5, 5, 1, 3, 2]\n"
     ]
    }
   ],
   "source": [
    "# 20. Write a code to shuffle a given list randomely without using any built in functions\n",
    "import random\n",
    "list1 = ['ram',1,2,5,3,7,4,5]  #taken a list\n",
    "shuffled_list = sorted(list1, key=lambda x: random.random())\n",
    "print(shuffled_list)\n"
   ]
  },
  {
   "cell_type": "code",
   "execution_count": 1,
   "id": "82b8d75b-b904-49e5-98a4-1837f6dc0e88",
   "metadata": {},
   "outputs": [
    {
     "name": "stdin",
     "output_type": "stream",
     "text": [
      "Enter your first tuple elements separated with space: 10 20 30\n",
      "Enter your second tuple elements separated with space: 30 40\n"
     ]
    },
    {
     "name": "stdout",
     "output_type": "stream",
     "text": [
      "('30',)\n"
     ]
    }
   ],
   "source": [
    "# 21. write a code to take two tuples as input and return a new tuple containing\n",
    "#     elements that are common to both input tuples\n",
    "\n",
    "a = input(\"Enter your first tuple elements separated with space:\")\n",
    "b = input(\"Enter your second tuple elements separated with space:\")\n",
    "lst1 = list(a.split())\n",
    "lst2 = list(b.split())\n",
    "new_list = []\n",
    "for i in lst1:\n",
    "    if i in lst2:\n",
    "        new_list.append(i)\n",
    "result_tuple = tuple(new_list)\n",
    "print(result_tuple)"
   ]
  },
  {
   "cell_type": "code",
   "execution_count": 7,
   "id": "753d527e-47d3-4646-b850-496c382bead2",
   "metadata": {},
   "outputs": [
    {
     "name": "stdin",
     "output_type": "stream",
     "text": [
      "Enter the elements of first set: 10 20\n",
      "Enter the elements of second set: 10\n"
     ]
    },
    {
     "name": "stdout",
     "output_type": "stream",
     "text": [
      "first set: {'20', '10'}\n",
      "second set: {'10'}\n",
      "Intersection of both sets {'10'}\n"
     ]
    }
   ],
   "source": [
    "# 22. create a code that prompt the users to enter two sets of integer separated by commas.\n",
    "#     then print the intersection of these two sets.\n",
    "\n",
    "a = input(\"Enter the elements of first set:\")\n",
    "b = input(\"Enter the elements of second set:\")\n",
    "set1 = set(a.split())\n",
    "print(\"first set:\", set1)\n",
    "set2 = set(b.split())\n",
    "print(\"second set:\", set2)\n",
    "intersection = set1 & set2\n",
    "print(\"Intersection of both sets\", intersection)\n"
   ]
  },
  {
   "cell_type": "code",
   "execution_count": 9,
   "id": "9bd681a4-414c-4cf3-abdb-7491aac36786",
   "metadata": {},
   "outputs": [
    {
     "name": "stdin",
     "output_type": "stream",
     "text": [
      "enter your tuple elements separated with space: ro bo ono mo\n",
      "enter your tuple elements separated with space: ho jo ko \n"
     ]
    },
    {
     "name": "stdout",
     "output_type": "stream",
     "text": [
      "('ro', 'bo', 'ono', 'mo', 'ho', 'jo', 'ko')\n"
     ]
    }
   ],
   "source": [
    "# 23. write a code to concatenate two tuples,the function should take two tuples\n",
    "#     as input and return a new tuple containing elements from both input tuples.\n",
    "first= str(input(\"enter your tuple elements separated with space:\"))\n",
    "second = str(input(\"enter your tuple elements separated with space:\"))\n",
    "tup1 = tuple(first.split())\n",
    "tup2 = tuple(second.split())\n",
    "main_tuple = tup1 + tup2\n",
    "print(main_tuple)"
   ]
  },
  {
   "cell_type": "code",
   "execution_count": 8,
   "id": "c1db4362-0e91-421a-b1db-661f6ccf85ec",
   "metadata": {},
   "outputs": [
    {
     "name": "stdin",
     "output_type": "stream",
     "text": [
      "enter your first string: mt ndm criefn cewifrn\n",
      "enter your second string: mt ndm f3u croenf \n"
     ]
    },
    {
     "name": "stdout",
     "output_type": "stream",
     "text": [
      "{'criefn', 'cewifrn'}\n"
     ]
    }
   ],
   "source": [
    "# 24. Develop a code \n",
    "first= str(input(\"enter your first string:\"))\n",
    "second = str(input(\"enter your second string:\"))\n",
    "tup1 = tuple(first.split())\n",
    "tup2 = tuple(second.split())\n",
    "set1 = set(tup1)\n",
    "set2 = set(tup2) \n",
    "final_result = set1 - set1.intersection(set2) - set2\n",
    "print(final_result)\n"
   ]
  },
  {
   "cell_type": "code",
   "execution_count": null,
   "id": "3f289c07-8f0b-4303-aa8c-ec8366fcce11",
   "metadata": {},
   "outputs": [
    {
     "name": "stdout",
     "output_type": "stream",
     "text": [
      "Original Tuple: (1, 2, 3, 4, 5, 6, 7, 8, 9)\n",
      "Extracted Tuple: (3, 4, 5, 6)\n"
     ]
    }
   ],
   "source": [
    "# 25. create a code that takes a tuple and two integers as input. the function should return a new tuple\n",
    "      # containing elements from original tuples within the specific ranges of  "
   ]
  },
  {
   "cell_type": "code",
   "execution_count": null,
   "id": "c272f1eb-849c-4efb-a092-2b833c2d1efd",
   "metadata": {},
   "outputs": [
    {
     "name": "stdin",
     "output_type": "stream",
     "text": [
      "enter your first string: my name is\n",
      "enter your second string: shubham\n"
     ]
    },
    {
     "name": "stdout",
     "output_type": "stream",
     "text": [
      "{'is', 'my', 'shubham', 'name'}\n"
     ]
    }
   ],
   "source": [
    "# 26 write a code that prompt user to input two sets of character.\n",
    "#    then print the union of these sets.\n",
    "first= str(input(\"enter your first string:\"))\n",
    "second = str(input(\"enter your second string:\"))\n",
    "tup1 = tuple(first.split())\n",
    "tup2 = tuple(second.split())\n",
    "set1 = set(tup1)\n",
    "set2 = set(tup2)\n",
    "union = set1.union(set2)\n",
    "print(union)"
   ]
  },
  {
   "cell_type": "code",
   "execution_count": null,
   "id": "fc0e2398-e214-4186-8250-3edb2603a83a",
   "metadata": {},
   "outputs": [
    {
     "name": "stdin",
     "output_type": "stream",
     "text": [
      "enter your integer: 11 33 44 \n"
     ]
    },
    {
     "name": "stdout",
     "output_type": "stream",
     "text": [
      "['11', '33', '44']\n"
     ]
    }
   ],
   "source": [
    "# 27. develop a code that takes a tuple of integers as input.\n",
    "#     the function should return the maximum and minimum from the tuple \n",
    "#     using tuple unpacking.\n",
    "input1 = str(input(\"enter your integer:\"))\n",
    "\n"
   ]
  },
  {
   "cell_type": "code",
   "execution_count": 9,
   "id": "0952d2e5-0d33-440f-b6f8-f6c6ec0b355b",
   "metadata": {},
   "outputs": [
    {
     "name": "stdout",
     "output_type": "stream",
     "text": [
      "Main Dictionary: {'ram': 3, 'shyam': 2, 'rakesh': 1}\n"
     ]
    }
   ],
   "source": [
    "# 31. write a code that takes a list of words as input and return a dictionary\n",
    "#     where the keys are unique words and the values are the frequencies of \n",
    "#     those words in the input list.\n",
    "lst = [\"ram\",\"ram\",\"ram\",\"shyam\",\"shyam\",\"rakesh\"]\n",
    "\n",
    "counts = {}\n",
    "\n",
    "for item in lst:\n",
    "    if item in counts:\n",
    "        counts[item] += 1\n",
    "    else:\n",
    "        counts[item] = 1\n",
    "main_dict = dict(counts)\n",
    "print(\"Main Dictionary:\", main_dict)"
   ]
  },
  {
   "cell_type": "code",
   "execution_count": 14,
   "id": "31f43603-7c25-41b0-b58f-3df5a46e2133",
   "metadata": {},
   "outputs": [
    {
     "name": "stdin",
     "output_type": "stream",
     "text": [
      "Enter your keys of first dictionary here separated with space: eo go\n",
      "Enter your values of first dictionary here separated with space: go ho\n",
      "Enter your keys of second dictionary here separated with space: eo bo\n",
      "Enter your values of second dictionary here separated with space: vo no\n"
     ]
    },
    {
     "name": "stdout",
     "output_type": "stream",
     "text": [
      "{'eo': 'go', 'go': 'ho'}\n",
      "{'eo': 'vo', 'bo': 'no'}\n",
      "{'eo': 'vogo', 'bo': 'no'}\n",
      "Merged Dictionary: {'eo': 'vogo', 'go': 'ho', 'bo': 'no'}\n"
     ]
    }
   ],
   "source": [
    "# 32. write a code that takes two dictionaries as input and merge them into a single\n",
    "#     single dictionary. if there are common key, the value should be added together.\n",
    "a = input(\"Enter your keys of first dictionary here separated with space:\")\n",
    "b = input(\"Enter your values of first dictionary here separated with space:\")\n",
    "c = input(\"Enter your keys of second dictionary here separated with space:\")\n",
    "d = input(\"Enter your values of second dictionary here separated with space:\")\n",
    "lst1 = list(a.split())\n",
    "lst2 = list(b.split())\n",
    "lst3 = list(c.split())\n",
    "lst4 = list(d.split())\n",
    "first_dictionary = {}\n",
    "second_dictionary = {} \n",
    "for lst1, lst2 in zip(lst1,lst2):\n",
    "    first_dictionary[lst1] = lst2\n",
    "print(first_dictionary)\n",
    "for lst3, lst4 in zip(lst3,lst4):\n",
    "    second_dictionary[lst3] = lst4\n",
    "print(second_dictionary)\n",
    "\n",
    "for key in second_dictionary:\n",
    "    if key in first_dictionary:\n",
    "        second_dictionary[key] += first_dictionary[key]\n",
    "print(second_dictionary)\n",
    "first_dictionary.update(second_dictionary)\n",
    "print(\"Merged Dictionary:\", first_dictionary)"
   ]
  },
  {
   "cell_type": "code",
   "execution_count": 31,
   "id": "2548648e-5036-419a-b786-3392127f94d8",
   "metadata": {},
   "outputs": [
    {
     "name": "stdin",
     "output_type": "stream",
     "text": [
      "enter your key: a x b\n"
     ]
    },
    {
     "name": "stdout",
     "output_type": "stream",
     "text": [
      "['a', 'x', 'b']\n",
      "a\n",
      "x\n",
      "None\n"
     ]
    }
   ],
   "source": [
    "# 33. write a code to access a value in nested dictionary. the function should take the \n",
    "#     dictionary and a list of keys as input, and return the corresponding value. if any\n",
    "#      of the keys do not exist in the dictionary, the function should return none.\n",
    "nested_dict = {'a':{'b':{'c':42}}, 'x':{'y':{'z':'hello'}}} \n",
    "dict_key = list(nested_dict.keys())\n",
    "a = input(\"enter your key:\")\n",
    "keys = list(a.split())\n",
    "print(keys)\n",
    "\n",
    "for key in keys:\n",
    "    if key in nested_dict:\n",
    "        print(key)\n",
    "        value = nested_dict[key]\n",
    "    else:\n",
    "        value = None\n",
    "        break\n",
    "print(value)\n",
    "\n",
    "\n",
    "        \n",
    "    \n"
   ]
  },
  {
   "cell_type": "code",
   "execution_count": null,
   "id": "e41791c2-3943-47de-81f4-1e0b3b2e6c99",
   "metadata": {},
   "outputs": [],
   "source": [
    "# 35 write a code that invert a dictionary, swapping keys and values. insure\n",
    "#    that the inverted dictionary correctly handles cases where multiple keys\n",
    "#    have the same value by storing the keys as a list in the inverted dictionary.\n"
   ]
  }
 ],
 "metadata": {
  "kernelspec": {
   "display_name": "Python 3 (ipykernel)",
   "language": "python",
   "name": "python3"
  },
  "language_info": {
   "codemirror_mode": {
    "name": "ipython",
    "version": 3
   },
   "file_extension": ".py",
   "mimetype": "text/x-python",
   "name": "python",
   "nbconvert_exporter": "python",
   "pygments_lexer": "ipython3",
   "version": "3.10.8"
  }
 },
 "nbformat": 4,
 "nbformat_minor": 5
}
